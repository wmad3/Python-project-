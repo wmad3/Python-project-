{
 "cells": [
  {
   "cell_type": "code",
   "execution_count": 2,
   "metadata": {},
   "outputs": [],
   "source": [
    "#Q1 Create a dictionary for all participants in the JDA program.\n",
    "#Keys should be the first letter in their names, Values should be their names.\n",
    "#[Hint] dic={\"l\":(Leul),\"J\":(Jerry,Jainam)........}\n",
    "dic={\"A\":('Adam','Ajinkya','Akash','Alka'),\"C\":('Chloe'),\"D\":('Dami','Divya'),\"E\":('Edward'),\"G\":('Gaurav','Gilmara'),\"I\":('Imara'),\n",
    "    \"J\":('Jainam'),\"L\":('Leul'),\"M\":('Mehrnaz','Muhammad'),\"O\":('Olaolusubomi'),\"P\":('Pray'),\"R\":('Rasha','Riley','Romita'),\"S\":('Salone',\n",
    "        'Saman','Santhiya','Sidney','Sowjanya','Suganya','Sunint'),\"T\":('Temitope','Tony'),\"U\":('Ulan'),\"W\":('Winnie'),\n",
    "        \"J\":'Jerry'}"
   ]
  },
  {
   "cell_type": "code",
   "execution_count": 3,
   "metadata": {},
   "outputs": [
    {
     "data": {
      "text/plain": [
       "dict_keys(['A', 'C', 'D', 'E', 'G', 'I', 'J', 'L', 'M', 'O', 'P', 'R', 'S', 'T', 'U', 'W'])"
      ]
     },
     "execution_count": 3,
     "metadata": {},
     "output_type": "execute_result"
    }
   ],
   "source": [
    "#Q2 What are the keys of your dictionary\n",
    "dic.keys()"
   ]
  },
  {
   "cell_type": "code",
   "execution_count": 4,
   "metadata": {},
   "outputs": [
    {
     "data": {
      "text/plain": [
       "dict_values([('Adam', 'Ajinkya', 'Akash', 'Alka'), 'Chloe', ('Dami', 'Divya'), 'Edward', ('Gaurav', 'Gilmara'), 'Imara', 'Jerry', 'Leul', ('Mehrnaz', 'Muhammad'), 'Olaolusubomi', 'Pray', ('Rasha', 'Riley', 'Romita'), ('Salone', 'Saman', 'Santhiya', 'Sidney', 'Sowjanya', 'Suganya', 'Sunint'), ('Temitope', 'Tony'), 'Ulan', 'Winnie'])"
      ]
     },
     "execution_count": 4,
     "metadata": {},
     "output_type": "execute_result"
    }
   ],
   "source": [
    "#Q3 What are the values of your dictionary\n",
    "dic.values()"
   ]
  },
  {
   "cell_type": "code",
   "execution_count": 5,
   "metadata": {},
   "outputs": [
    {
     "name": "stdout",
     "output_type": "stream",
     "text": [
      "Jerry\n",
      "Imara\n",
      "('Mehrnaz', 'Muhammad')\n",
      "Chloe\n",
      "('Adam', 'Ajinkya', 'Akash', 'Alka')\n"
     ]
    }
   ],
   "source": [
    "#Q4 Find participant's names that start with J,I,M,C,A\n",
    "print(dic[\"J\"])\n",
    "print(dic[\"I\"])\n",
    "print(dic[\"M\"])\n",
    "print(dic[\"C\"])\n",
    "print(dic[\"A\"])"
   ]
  },
  {
   "cell_type": "code",
   "execution_count": 6,
   "metadata": {},
   "outputs": [
    {
     "data": {
      "text/plain": [
       "{'A': ('Adam', 'Ajinkya', 'Akash', 'Alka'),\n",
       " 'C': 'Chloe',\n",
       " 'D': ('Dami', 'Divya'),\n",
       " 'E': 'Edward',\n",
       " 'G': ('Gaurav', 'Gilmara'),\n",
       " 'I': 'Imara',\n",
       " 'J': 'Jerry',\n",
       " 'L': 'Leul',\n",
       " 'M': ('Mehrnaz', 'Muhammad'),\n",
       " 'O': 'Olaolusubomi',\n",
       " 'P': 'Pray',\n",
       " 'R': ('Rasha', 'Riley', 'Romita'),\n",
       " 'S': ('Salone',\n",
       "  'Saman',\n",
       "  'Santhiya',\n",
       "  'Sidney',\n",
       "  'Sowjanya',\n",
       "  'Suganya',\n",
       "  'Sunint'),\n",
       " 'T': ('Temitope', 'Tony'),\n",
       " 'U': 'Ulan',\n",
       " 'W': 'Winnie',\n",
       " ('K', 'PD'): 'Kristina'}"
      ]
     },
     "execution_count": 6,
     "metadata": {},
     "output_type": "execute_result"
    }
   ],
   "source": [
    "#Q5 Add the following to your dictionary \n",
    "# Key<(K,PD)>, Value<(Kristina)>\n",
    "dic[(\"K\",\"PD\")]=\"Kristina\"\n",
    "dic"
   ]
  },
  {
   "cell_type": "code",
   "execution_count": 13,
   "metadata": {},
   "outputs": [
    {
     "data": {
      "text/plain": [
       "18"
      ]
     },
     "execution_count": 13,
     "metadata": {},
     "output_type": "execute_result"
    }
   ],
   "source": [
    "#Q6 Find the length of your dictionary  \n",
    "len(dic)"
   ]
  },
  {
   "cell_type": "code",
   "execution_count": 7,
   "metadata": {},
   "outputs": [
    {
     "data": {
      "text/plain": [
       "{'A': ('Adam', 'Ajinkya', 'Akash', 'Alka'),\n",
       " 'C': 'Chloe',\n",
       " 'D': ('Dami', 'Divya'),\n",
       " 'E': 'Edward',\n",
       " 'G': ('Gaurav', 'Gilmara'),\n",
       " 'I': 'Imara',\n",
       " 'J': 'Jerry',\n",
       " 'L': 'Leul',\n",
       " 'M': ('Mehrnaz', 'Muhammad'),\n",
       " 'O': 'Olaolusubomi',\n",
       " 'P': 'Pray',\n",
       " 'R': ('Rasha', 'Riley', 'Romita'),\n",
       " 'S': ('Salone',\n",
       "  'Saman',\n",
       "  'Santhiya',\n",
       "  'Sidney',\n",
       "  'Sowjanya',\n",
       "  'Suganya',\n",
       "  'Sunint'),\n",
       " 'T': ('Temitope', 'Tony'),\n",
       " 'U': 'Ulan',\n",
       " 'W': 'Winnie',\n",
       " ('K', 'PD'): 'Kristina',\n",
       " ('S', 'Instructor'): 'Sarah'}"
      ]
     },
     "execution_count": 7,
     "metadata": {},
     "output_type": "execute_result"
    }
   ],
   "source": [
    "#Q7 Add the following to your dictionary \n",
    "# Key<(S,Instructor)>, Value<(Sarah)>\n",
    "dic[(\"S\",\"Instructor\")]=\"Sarah\"\n",
    "dic"
   ]
  },
  {
   "cell_type": "code",
   "execution_count": 9,
   "metadata": {},
   "outputs": [
    {
     "data": {
      "text/plain": [
       "18"
      ]
     },
     "execution_count": 9,
     "metadata": {},
     "output_type": "execute_result"
    }
   ],
   "source": [
    "#Q8 Find the length of your dictionary  \n",
    "len(dic)"
   ]
  },
  {
   "cell_type": "code",
   "execution_count": 10,
   "metadata": {},
   "outputs": [],
   "source": [
    "#Q7 Delete the following keys from your dictionary \n",
    "#Key<(S,Instructor)>\n",
    "#Key<J>\n",
    "del dic[(\"S\",\"Instructor\")]"
   ]
  },
  {
   "cell_type": "code",
   "execution_count": 11,
   "metadata": {},
   "outputs": [
    {
     "data": {
      "text/plain": [
       "17"
      ]
     },
     "execution_count": 11,
     "metadata": {},
     "output_type": "execute_result"
    }
   ],
   "source": [
    "#Q9 Find the length of your dictionary  \n",
    "len(dic)"
   ]
  },
  {
   "cell_type": "code",
   "execution_count": 23,
   "metadata": {},
   "outputs": [],
   "source": [
    "#Q10 Create a new dictionary called synonyms_dic\n",
    "synonyms_dic={}"
   ]
  },
  {
   "cell_type": "code",
   "execution_count": 24,
   "metadata": {},
   "outputs": [],
   "source": [
    "#Q11 Add the synonyms of the following words to your dictionary \n",
    "#Bad, Good, Awesome, Cold, Easy, Hard, Big, Small\n",
    "synonyms_dic[\"Bad\"]=(\"Substandard\",\"Poor\",\"inferior\",)\n",
    "synonyms_dic[\"Good\"]=(\"pure\",\"moral\",\"worthy\")\n",
    "synonyms_dic[\"Awesome\"]=(\"breathetaking\",\"amazing\",\"stunning\")\n",
    "synonyms_dic[\"Cold\"]=(\"chilly\",\"icy\",\"wintry\")\n",
    "synonyms_dic[\"Easy\"]=(\"simple\",\"facile\",\"effortless\")\n",
    "synonyms_dic[\"Hard\"]=(\"hefty\",\"dense\",\"solid\")\n",
    "synonyms_dic[\"Big\"]=(\"large\",\"massive\",\"colossal\")\n",
    "synonyms_dic[\"Small\"]=(\"bijou\",\"minute\",\"nugatory\")"
   ]
  },
  {
   "cell_type": "code",
   "execution_count": 30,
   "metadata": {},
   "outputs": [
    {
     "name": "stdout",
     "output_type": "stream",
     "text": [
      "('breathetaking', 'amazing', 'stunning') ('simple', 'facile', 'effortless') ('bijou', 'minute', 'nugatory') ('chilly', 'icy', 'wintry')\n"
     ]
    }
   ],
   "source": [
    "#Q12 Use your dictionary to find the synonym of the following words \n",
    "# Awesome, Easy, Small, Old\n",
    "# using key\"old\" will throw an error as the key old does not exist\n",
    "print(synonyms_dic[\"Awesome\"],synonyms_dic[\"Easy\"],synonyms_dic[\"Small\"],synonyms_dic[\"Cold\"])\n"
   ]
  },
  {
   "cell_type": "code",
   "execution_count": 32,
   "metadata": {},
   "outputs": [
    {
     "data": {
      "text/plain": [
       "{}"
      ]
     },
     "execution_count": 32,
     "metadata": {},
     "output_type": "execute_result"
    }
   ],
   "source": [
    "#Q13 Delete everything from synonyms_dic\n",
    "synonyms_dic.clear()\n",
    "synonyms_dic"
   ]
  },
  {
   "cell_type": "code",
   "execution_count": 33,
   "metadata": {},
   "outputs": [
    {
     "name": "stdout",
     "output_type": "stream",
     "text": [
      "{}\n"
     ]
    }
   ],
   "source": [
    "#Q14 Print all values in synonyms_dic\n",
    "print(synonyms_dic)"
   ]
  },
  {
   "cell_type": "code",
   "execution_count": 37,
   "metadata": {},
   "outputs": [
    {
     "data": {
      "text/plain": [
       "{'True': 1, 'False': 0}"
      ]
     },
     "execution_count": 37,
     "metadata": {},
     "output_type": "execute_result"
    }
   ],
   "source": [
    "#Q15 Convert the below two lists into dictionary\n",
    "Keys=[\"True\",\"False\"]\n",
    "Values=[1,0]\n",
    "new_dic={Keys[0]:Values[0]}\n",
    "new_dic[Keys[1]]=Values[1]\n",
    "new_dic"
   ]
  },
  {
   "cell_type": "code",
   "execution_count": 38,
   "metadata": {},
   "outputs": [
    {
     "data": {
      "text/plain": [
       "4480"
      ]
     },
     "execution_count": 38,
     "metadata": {},
     "output_type": "execute_result"
    }
   ],
   "source": [
    "#Q16 Sum all the values in the following dictionary\n",
    "income={'Jan':1000,'Feb':1500,'Mar':980,'April':1000}\n",
    "sum(income.values())"
   ]
  },
  {
   "cell_type": "code",
   "execution_count": 41,
   "metadata": {},
   "outputs": [
    {
     "data": {
      "text/plain": [
       "['110', '101', '10', '1011', '110', '1001', '111', '1101']"
      ]
     },
     "execution_count": 41,
     "metadata": {},
     "output_type": "execute_result"
    }
   ],
   "source": [
    "#Q17 Create the following dictionary encryption={10:\"hungry\", 101:\"am\", 110:\"I\", 1011:\",\" ,1101:\"eat\", 1001:\"want\", 111:\"to\"}\n",
    "# What should the the decryption of the following code \"110 101 10 1011 110 1001 111 1101\"\n",
    "encryption={10:\"hungry\", 101:\"am\", 110:\"I\", 1011:\",\" ,1101:\"eat\", 1001:\"want\", 111:\"to\"}\n",
    "string=\"110 101 10 1011 110 1001 111 1101\"\n",
    "split_string=string.split(\" \")\n",
    "split_string\n",
    "\n"
   ]
  },
  {
   "cell_type": "code",
   "execution_count": 52,
   "metadata": {},
   "outputs": [
    {
     "data": {
      "text/plain": [
       "('I', 'am', 'hungry', ',', 'I', 'want', 'to', 'eat')"
      ]
     },
     "execution_count": 52,
     "metadata": {},
     "output_type": "execute_result"
    }
   ],
   "source": [
    "\n",
    "encryption[int(split_string[0])],encryption[int(split_string[1])],encryption[int(split_string[2])],encryption[int(split_string[3])],encryption[int(split_string[4])],encryption[int(split_string[5])],encryption[int(split_string[6])],encryption[int(split_string[7])]"
   ]
  },
  {
   "cell_type": "code",
   "execution_count": null,
   "metadata": {},
   "outputs": [],
   "source": []
  },
  {
   "cell_type": "code",
   "execution_count": null,
   "metadata": {},
   "outputs": [],
   "source": []
  }
 ],
 "metadata": {
  "kernelspec": {
   "display_name": "Python 3",
   "language": "python",
   "name": "python3"
  },
  "language_info": {
   "codemirror_mode": {
    "name": "ipython",
    "version": 3
   },
   "file_extension": ".py",
   "mimetype": "text/x-python",
   "name": "python",
   "nbconvert_exporter": "python",
   "pygments_lexer": "ipython3",
   "version": "3.7.0"
  }
 },
 "nbformat": 4,
 "nbformat_minor": 4
}
