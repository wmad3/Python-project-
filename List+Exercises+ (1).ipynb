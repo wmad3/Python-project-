{
 "cells": [
  {
   "cell_type": "code",
   "execution_count": 2,
   "metadata": {},
   "outputs": [],
   "source": [
    "#Q1 Create a tuple with all participant names in the JDA program\n",
    "jdaTuple=('Adam','Ajinkya','Akash','Alka','Chloe','Dami','Divya','Edward','Gaurav','Gilmara','Imara',\n",
    "        'Jainam','Leul','Mehrnaz','Muhammad','Olaolusubomi','Pray','Rasha','Riley','Romita','Salone',\n",
    "        'Saman','Santhiya','Sidney','Sowjanya','Suganya','Sunint','Temitope','Tony','Ulan','Winnie',\n",
    "        'Jerry')"
   ]
  },
  {
   "cell_type": "code",
   "execution_count": 3,
   "metadata": {},
   "outputs": [],
   "source": [
    "#Q2 Convert the tuple into a list called pps_L\n",
    "pps_L=list(jdaTuple)"
   ]
  },
  {
   "cell_type": "code",
   "execution_count": 4,
   "metadata": {},
   "outputs": [
    {
     "data": {
      "text/plain": [
       "32"
      ]
     },
     "execution_count": 4,
     "metadata": {},
     "output_type": "execute_result"
    }
   ],
   "source": [
    "#Q3 What is the length of your list \n",
    "len(pps_L)"
   ]
  },
  {
   "cell_type": "code",
   "execution_count": 5,
   "metadata": {},
   "outputs": [
    {
     "name": "stdout",
     "output_type": "stream",
     "text": [
      "Alka\n",
      "Dami\n",
      "Muhammad\n",
      "Winnie\n"
     ]
    }
   ],
   "source": [
    "#Q4 Find the values stored in indexes [3],[5],[14],[30],[38]\n",
    "print(pps_L[3])\n",
    "print(pps_L[5])\n",
    "print(pps_L[14])\n",
    "print(pps_L[30])\n",
    "#pps_L[38] list has 32 items so last index is 31"
   ]
  },
  {
   "cell_type": "code",
   "execution_count": 6,
   "metadata": {},
   "outputs": [
    {
     "data": {
      "text/plain": [
       "False"
      ]
     },
     "execution_count": 6,
     "metadata": {},
     "output_type": "execute_result"
    }
   ],
   "source": [
    "#Q5 Check if \"Sarah\" is in the list\n",
    "\"Sarah\" in pps_L"
   ]
  },
  {
   "cell_type": "code",
   "execution_count": 7,
   "metadata": {},
   "outputs": [
    {
     "data": {
      "text/plain": [
       "['Adam',\n",
       " 'Ajinkya',\n",
       " 'Akash',\n",
       " 'Alka',\n",
       " 'Chloe',\n",
       " 'Dami',\n",
       " 'Divya',\n",
       " 'Edward',\n",
       " 'Gaurav',\n",
       " 'Gilmara',\n",
       " 'Imara',\n",
       " 'Jainam',\n",
       " 'Leul',\n",
       " 'Mehrnaz',\n",
       " 'Muhammad',\n",
       " 'Olaolusubomi',\n",
       " 'Pray',\n",
       " 'Rasha',\n",
       " 'Riley',\n",
       " 'Romita',\n",
       " 'Salone',\n",
       " 'Saman',\n",
       " 'Santhiya',\n",
       " 'Sidney',\n",
       " 'Sowjanya',\n",
       " 'Suganya',\n",
       " 'Sunint',\n",
       " 'Temitope',\n",
       " 'Tony',\n",
       " 'Ulan',\n",
       " 'Winnie',\n",
       " 'Jerry',\n",
       " 'Sarah']"
      ]
     },
     "execution_count": 7,
     "metadata": {},
     "output_type": "execute_result"
    }
   ],
   "source": [
    "#Q6 Add \"Sarah\" to your list\n",
    "pps_L.append(\"Sarah\")\n",
    "pps_L"
   ]
  },
  {
   "cell_type": "code",
   "execution_count": 8,
   "metadata": {},
   "outputs": [
    {
     "data": {
      "text/plain": [
       "False"
      ]
     },
     "execution_count": 8,
     "metadata": {},
     "output_type": "execute_result"
    }
   ],
   "source": [
    "#Q7 Check if \"Bashir\" is in the list\n",
    "\"Bashir\" in pps_L"
   ]
  },
  {
   "cell_type": "code",
   "execution_count": 9,
   "metadata": {},
   "outputs": [],
   "source": [
    "#Q9 Add \"Bashir\" to your list\n",
    "pps_L.append(\"Bashir\")"
   ]
  },
  {
   "cell_type": "code",
   "execution_count": 10,
   "metadata": {},
   "outputs": [
    {
     "name": "stdout",
     "output_type": "stream",
     "text": [
      "32\n"
     ]
    }
   ],
   "source": [
    "#Q10 Find the index of the element \"Sarah\" in the list\n",
    "print(pps_L.index(\"Sarah\"))"
   ]
  },
  {
   "cell_type": "code",
   "execution_count": 11,
   "metadata": {},
   "outputs": [
    {
     "name": "stdout",
     "output_type": "stream",
     "text": [
      "Instructor\n"
     ]
    }
   ],
   "source": [
    "#Q11 Change the value of the index in Q10 from \"Sarah\" to \"Instructor\"\n",
    "pps_L[32]=\"Instructor\"\n",
    "print(pps_L[32])"
   ]
  },
  {
   "cell_type": "code",
   "execution_count": 12,
   "metadata": {},
   "outputs": [
    {
     "name": "stdout",
     "output_type": "stream",
     "text": [
      "33\n"
     ]
    }
   ],
   "source": [
    "#Q12 Find the index of the element \"Bashir\" in the list\n",
    "print(pps_L.index(\"Bashir\"))"
   ]
  },
  {
   "cell_type": "code",
   "execution_count": 13,
   "metadata": {},
   "outputs": [],
   "source": [
    "#Q13 Change the value of the index in Q12 from \"Bashir\" to \"Peer-Mentor\"\n",
    "pps_L[33]=\"Peer-Mentor\""
   ]
  },
  {
   "cell_type": "code",
   "execution_count": 14,
   "metadata": {},
   "outputs": [
    {
     "data": {
      "text/plain": [
       "['Adam',\n",
       " 'Ajinkya',\n",
       " 'Akash',\n",
       " 'Alka',\n",
       " 'Chloe',\n",
       " 'Dami',\n",
       " 'Divya',\n",
       " 'Edward',\n",
       " 'Gaurav',\n",
       " 'Gilmara',\n",
       " 'Imara',\n",
       " 'Jainam',\n",
       " 'Leul',\n",
       " 'Mehrnaz',\n",
       " 'Muhammad',\n",
       " 'Olaolusubomi',\n",
       " 'Pray',\n",
       " 'Rasha',\n",
       " 'Riley',\n",
       " 'Romita',\n",
       " 'Salone',\n",
       " 'Saman',\n",
       " 'Santhiya',\n",
       " 'Sidney',\n",
       " 'Sowjanya',\n",
       " 'Suganya',\n",
       " 'Sunint',\n",
       " 'Temitope',\n",
       " 'Tony',\n",
       " 'Ulan',\n",
       " 'Winnie',\n",
       " 'Jerry',\n",
       " 'Instructor',\n",
       " 'Peer-Mentor']"
      ]
     },
     "execution_count": 14,
     "metadata": {},
     "output_type": "execute_result"
    }
   ],
   "source": [
    "pps_L"
   ]
  },
  {
   "cell_type": "code",
   "execution_count": null,
   "metadata": {},
   "outputs": [],
   "source": []
  },
  {
   "cell_type": "code",
   "execution_count": null,
   "metadata": {},
   "outputs": [],
   "source": []
  }
 ],
 "metadata": {
  "kernelspec": {
   "display_name": "Python 3",
   "language": "python",
   "name": "python3"
  },
  "language_info": {
   "codemirror_mode": {
    "name": "ipython",
    "version": 3
   },
   "file_extension": ".py",
   "mimetype": "text/x-python",
   "name": "python",
   "nbconvert_exporter": "python",
   "pygments_lexer": "ipython3",
   "version": "3.7.0"
  }
 },
 "nbformat": 4,
 "nbformat_minor": 4
}
